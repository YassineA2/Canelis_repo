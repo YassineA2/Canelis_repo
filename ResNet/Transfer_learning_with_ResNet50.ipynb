{
  "nbformat": 4,
  "nbformat_minor": 0,
  "metadata": {
    "colab": {
      "provenance": [],
      "gpuType": "T4"
    },
    "kernelspec": {
      "name": "python3",
      "display_name": "Python 3"
    },
    "language_info": {
      "name": "python"
    },
    "accelerator": "GPU"
  },
  "cells": [
    {
      "cell_type": "code",
      "execution_count": null,
      "metadata": {
        "colab": {
          "base_uri": "https://localhost:8080/"
        },
        "id": "-Z1jI7cNgbrf",
        "outputId": "1e0143b1-601c-4efb-aa75-8235e697679b"
      },
      "outputs": [
        {
          "output_type": "stream",
          "name": "stdout",
          "text": [
            "Mounted at /content/drive\n"
          ]
        }
      ],
      "source": [
        "from google.colab import drive\n",
        "drive.mount('/content/drive')"
      ]
    },
    {
      "cell_type": "code",
      "source": [
        "!mkdir Dataset_ResNet\n",
        "\n",
        "!unzip -uq \"/content/drive/MyDrive/Colab Notebooks/Dataset_ResNet.zip\" -d \"/content\""
      ],
      "metadata": {
        "id": "00xyOBhigdf9"
      },
      "execution_count": null,
      "outputs": []
    },
    {
      "cell_type": "code",
      "source": [
        "import glob\n",
        "from PIL import Image\n",
        "import csv\n",
        "\n",
        "\n",
        "import os\n",
        "import random\n",
        "import pandas as pd\n",
        "import numpy as np\n",
        "import matplotlib.pyplot as plt\n",
        "plt.style.use(\"ggplot\")\n",
        "%matplotlib inline\n",
        "\n",
        "from tqdm import tqdm_notebook, tnrange\n",
        "from itertools import chain\n",
        "from skimage.io import imread, imshow, concatenate_images\n",
        "from skimage.transform import resize\n",
        "from skimage.morphology import label\n",
        "from sklearn.model_selection import train_test_split\n",
        "\n",
        "import tensorflow as tf\n",
        "\n",
        "from keras import metrics\n",
        "from keras.models import Model, load_model\n",
        "from keras.layers import Input, BatchNormalization, Activation, Dense, Dropout\n",
        "from keras.layers.core import Lambda, RepeatVector, Reshape\n",
        "from keras.layers.convolutional import Conv2D, Conv2DTranspose\n",
        "from keras.layers.pooling import MaxPooling2D, GlobalMaxPool2D\n",
        "#from keras.layers.merge import concatenate, add\n",
        "from keras.callbacks import EarlyStopping, ModelCheckpoint, ReduceLROnPlateau\n",
        "from keras.optimizers import Adam\n",
        "#from keras.preprocessing.image import ImageDataGenerator, array_to_img, img_to_array, load_img"
      ],
      "metadata": {
        "id": "racPLMCUgemQ"
      },
      "execution_count": null,
      "outputs": []
    },
    {
      "cell_type": "code",
      "source": [
        "IMG_WIDTH = 224 #96\n",
        "IMG_HEIGHT = 224 #256\n",
        "IMG_CHANNELS = 1\n",
        "\n",
        "directory_path = '/content/Dataset_ResNet'\n",
        "subfolders = ['TestAV1', 'TestAV3', 'TestAV4', 'TestAV5', 'TestAV6', 'TestAV7', 'TestAV8']\n",
        "\n",
        "file_path = '/content/Dataset_ResNet/Alicona_data.csv'"
      ],
      "metadata": {
        "id": "jItxRzKAgfno"
      },
      "execution_count": null,
      "outputs": []
    },
    {
      "cell_type": "code",
      "source": [
        "X = np.zeros((170, IMG_HEIGHT, IMG_WIDTH, 3), dtype=np.float32)\n",
        "cnt = 0\n",
        "for elmt in subfolders:\n",
        "    subfolder_path = os.path.join(directory_path, elmt)\n",
        "    train_image_files = glob.glob(os.path.join(subfolder_path, '*.tif'))\n",
        "    train_image_files = sorted(train_image_files)  # Sort the file paths\n",
        "\n",
        "    for img in train_image_files:\n",
        "      im = tf.keras.preprocessing.image.load_img(img, grayscale=True)\n",
        "      x_img = tf.keras.preprocessing.image.img_to_array(im)\n",
        "      x_img = resize(x_img, (IMG_HEIGHT, IMG_WIDTH, 1), mode = 'constant', preserve_range = True)\n",
        "      X[cnt] = x_img/255.0\n",
        "\n",
        "      cnt +=1\n",
        "\n",
        "\n",
        "# Create an empty list to store the data rows\n",
        "csv_data = []\n",
        "\n",
        "with open(file_path, 'r') as csvfile:\n",
        "    csvreader = csv.reader(csvfile, delimiter=',')\n",
        "    next(csvreader)\n",
        "    for row in csvreader:\n",
        "        csv_data.append(row)\n",
        "        csv_data.append(row)\n",
        "        csv_data.append(row)\n",
        "        csv_data.append(row)\n",
        "        csv_data.append(row)\n",
        "\n",
        "csv_dataa = np.array(csv_data)\n",
        "\n",
        "y = np.zeros((len(csv_dataa), 1), dtype=np.float32)\n",
        "y = csv_dataa[:,2].astype(np.float32).reshape(-1, 1)"
      ],
      "metadata": {
        "id": "YTwxMZwzgio5",
        "colab": {
          "base_uri": "https://localhost:8080/"
        },
        "outputId": "1228f4e4-51b0-4a8c-97b2-ecbb5e9ae54c"
      },
      "execution_count": null,
      "outputs": [
        {
          "output_type": "stream",
          "name": "stderr",
          "text": [
            "/usr/local/lib/python3.10/dist-packages/keras/utils/image_utils.py:409: UserWarning: grayscale is deprecated. Please use color_mode = \"grayscale\"\n",
            "  warnings.warn(\n"
          ]
        }
      ]
    },
    {
      "cell_type": "code",
      "source": [
        "# Split train and valid\n",
        "X_train, X_valid, y_train, y_valid = train_test_split(X, y, test_size=0.2, random_state=42)\n",
        "print(X_train.shape)\n",
        "print(y_train.shape)\n",
        "print(X_valid.shape)\n",
        "print(y_valid.shape)"
      ],
      "metadata": {
        "colab": {
          "base_uri": "https://localhost:8080/"
        },
        "id": "UaWpV1aagk0f",
        "outputId": "50448517-ed5f-4227-e6cd-12c7055fcbda"
      },
      "execution_count": null,
      "outputs": [
        {
          "output_type": "stream",
          "name": "stdout",
          "text": [
            "(136, 224, 224, 3)\n",
            "(136, 1)\n",
            "(34, 224, 224, 3)\n",
            "(34, 1)\n"
          ]
        }
      ]
    },
    {
      "cell_type": "code",
      "source": [
        "input_t = tf.keras.layers.Input(shape=(224,224,3))\n",
        "res_model = tf.keras.applications.ResNet152(include_top=False, weights=None, input_tensor=input_t, input_shape=None)"
      ],
      "metadata": {
        "id": "bTnk5445guvU"
      },
      "execution_count": null,
      "outputs": []
    },
    {
      "cell_type": "code",
      "source": [
        "x = res_model.output\n",
        "x = tf.keras.layers.GlobalAveragePooling2D()(x)\n",
        "x = tf.keras.layers.Dense(1024,activation='relu')(x)\n",
        "x = tf.keras.layers.Dense(1024,activation='relu')(x)\n",
        "\n",
        "model=Model(inputs=res_model.input,outputs=Dense(1, activation='linear')(x))\n",
        "\n",
        "model.compile(loss = 'mean_squared_error', optimizer='adam', metrics=[tf.keras.metrics.RootMeanSquaredError(name=\"rmse\")])\n",
        "\n",
        "monitor = EarlyStopping(monitor='val_loss', min_delta=1e-3, patience=50, verbose=1, mode='auto', restore_best_weights=True)\n",
        "\n",
        "history = model.fit(X_train, y_train, epochs=100, batch_size=32, validation_data=(X_valid, y_valid), callbacks=[monitor], verbose = 1)\n",
        "\n",
        "'''model = tf.keras.models.Sequential()\n",
        "model.add(res_model)\n",
        "model.add(tf.keras.layers.Flatten())\n",
        "model.add(tf.keras.layers.BatchNormalization())\n",
        "model.add(tf.keras.layers.Dense(256, activation='relu'))\n",
        "model.add(tf.keras.layers.Dropout(0.5))\n",
        "model.add(tf.keras.layers.BatchNormalization())\n",
        "model.add(tf.keras.layers.Dense(128, activation='relu'))\n",
        "model.add(tf.keras.layers.Dropout(0.5))\n",
        "model.add(tf.keras.layers.BatchNormalization())\n",
        "model.add(tf.keras.layers.Dense(64, activation='relu'))\n",
        "model.add(tf.keras.layers.Dropout(0.5))\n",
        "model.add(tf.keras.layers.BatchNormalization())\n",
        "model.add(tf.keras.layers.Dense(1, activation='linear'))\n",
        "\n",
        "check_point = tf.keras.callbacks.ModelCheckpoint(filepath=\"cifar10.h5\",\n",
        "                                              monitor=\"val_acc\",\n",
        "                                              mode=\"max\",\n",
        "                                              save_best_only=True,\n",
        "                                              )\n",
        "model.compile(optimizer = 'adam', loss='mean_squared_error', metrics = ['mean_squared_error'])\n",
        "history = model.fit(X_train, y_train, batch_size=32, epochs=10, verbose=1,\n",
        "                        validation_data=(X_valid, y_valid),\n",
        "                        callbacks=[check_point])\n",
        "model.summary()'''"
      ],
      "metadata": {
        "id": "soLnTXxrkDTS",
        "colab": {
          "base_uri": "https://localhost:8080/",
          "height": 1000
        },
        "outputId": "b389935f-c929-4e49-af3d-3531ceff53cb"
      },
      "execution_count": null,
      "outputs": [
        {
          "output_type": "stream",
          "name": "stdout",
          "text": [
            "Epoch 1/100\n",
            "5/5 [==============================] - 161s 2s/step - loss: 169.0696 - rmse: 13.0027 - val_loss: 0.1390 - val_rmse: 0.3729\n",
            "Epoch 2/100\n",
            "5/5 [==============================] - 4s 706ms/step - loss: 2.6347 - rmse: 1.6232 - val_loss: 1.3958 - val_rmse: 1.1814\n",
            "Epoch 3/100\n",
            "5/5 [==============================] - 4s 702ms/step - loss: 0.5947 - rmse: 0.7711 - val_loss: 1.3579 - val_rmse: 1.1653\n",
            "Epoch 4/100\n",
            "5/5 [==============================] - 4s 706ms/step - loss: 0.3469 - rmse: 0.5890 - val_loss: 1.0498 - val_rmse: 1.0246\n",
            "Epoch 5/100\n",
            "5/5 [==============================] - 4s 719ms/step - loss: 0.0611 - rmse: 0.2472 - val_loss: 1.0897 - val_rmse: 1.0439\n",
            "Epoch 6/100\n",
            "5/5 [==============================] - 4s 700ms/step - loss: 0.0550 - rmse: 0.2346 - val_loss: 0.8685 - val_rmse: 0.9319\n",
            "Epoch 7/100\n",
            "5/5 [==============================] - 4s 706ms/step - loss: 0.0403 - rmse: 0.2008 - val_loss: 0.8362 - val_rmse: 0.9144\n",
            "Epoch 8/100\n",
            "5/5 [==============================] - 4s 714ms/step - loss: 0.0414 - rmse: 0.2035 - val_loss: 0.9447 - val_rmse: 0.9720\n",
            "Epoch 9/100\n",
            "5/5 [==============================] - 4s 734ms/step - loss: 0.1529 - rmse: 0.3910 - val_loss: 0.8219 - val_rmse: 0.9066\n",
            "Epoch 10/100\n",
            "5/5 [==============================] - 4s 731ms/step - loss: 0.1035 - rmse: 0.3217 - val_loss: 0.5124 - val_rmse: 0.7158\n",
            "Epoch 11/100\n",
            "5/5 [==============================] - 4s 733ms/step - loss: 0.0831 - rmse: 0.2882 - val_loss: 0.4661 - val_rmse: 0.6827\n",
            "Epoch 12/100\n",
            "5/5 [==============================] - 4s 748ms/step - loss: 0.0575 - rmse: 0.2397 - val_loss: 0.4327 - val_rmse: 0.6578\n",
            "Epoch 13/100\n",
            "5/5 [==============================] - 4s 749ms/step - loss: 0.0413 - rmse: 0.2033 - val_loss: 0.4023 - val_rmse: 0.6343\n",
            "Epoch 14/100\n",
            "5/5 [==============================] - 4s 750ms/step - loss: 0.0276 - rmse: 0.1660 - val_loss: 0.6094 - val_rmse: 0.7806\n",
            "Epoch 15/100\n",
            "5/5 [==============================] - 4s 761ms/step - loss: 0.0540 - rmse: 0.2324 - val_loss: 0.4681 - val_rmse: 0.6842\n",
            "Epoch 16/100\n",
            "5/5 [==============================] - 4s 779ms/step - loss: 0.0401 - rmse: 0.2001 - val_loss: 0.2597 - val_rmse: 0.5096\n",
            "Epoch 17/100\n",
            "5/5 [==============================] - 4s 769ms/step - loss: 0.0539 - rmse: 0.2321 - val_loss: 0.4202 - val_rmse: 0.6482\n",
            "Epoch 18/100\n",
            "5/5 [==============================] - 4s 771ms/step - loss: 0.0313 - rmse: 0.1770 - val_loss: 0.4549 - val_rmse: 0.6745\n",
            "Epoch 19/100\n",
            "5/5 [==============================] - 4s 781ms/step - loss: 0.0776 - rmse: 0.2786 - val_loss: 0.2889 - val_rmse: 0.5375\n",
            "Epoch 20/100\n",
            "5/5 [==============================] - 4s 805ms/step - loss: 0.0767 - rmse: 0.2769 - val_loss: 0.1740 - val_rmse: 0.4172\n",
            "Epoch 21/100\n",
            "5/5 [==============================] - 4s 796ms/step - loss: 0.1223 - rmse: 0.3497 - val_loss: 0.1555 - val_rmse: 0.3943\n",
            "Epoch 22/100\n",
            "5/5 [==============================] - 4s 799ms/step - loss: 0.1256 - rmse: 0.3543 - val_loss: 0.3099 - val_rmse: 0.5567\n",
            "Epoch 23/100\n",
            "5/5 [==============================] - 4s 804ms/step - loss: 0.0738 - rmse: 0.2717 - val_loss: 0.3548 - val_rmse: 0.5956\n",
            "Epoch 24/100\n",
            "5/5 [==============================] - 4s 778ms/step - loss: 0.0938 - rmse: 0.3063 - val_loss: 0.2579 - val_rmse: 0.5079\n",
            "Epoch 25/100\n",
            "5/5 [==============================] - 4s 769ms/step - loss: 0.0432 - rmse: 0.2078 - val_loss: 0.2053 - val_rmse: 0.4530\n",
            "Epoch 26/100\n",
            "5/5 [==============================] - 4s 877ms/step - loss: 0.0333 - rmse: 0.1826 - val_loss: 0.1328 - val_rmse: 0.3645\n",
            "Epoch 27/100\n",
            "5/5 [==============================] - 4s 875ms/step - loss: 0.0290 - rmse: 0.1702 - val_loss: 0.0943 - val_rmse: 0.3071\n",
            "Epoch 28/100\n",
            "5/5 [==============================] - 4s 857ms/step - loss: 0.0349 - rmse: 0.1868 - val_loss: 0.0933 - val_rmse: 0.3054\n",
            "Epoch 29/100\n",
            "5/5 [==============================] - 4s 766ms/step - loss: 0.0193 - rmse: 0.1389 - val_loss: 0.1394 - val_rmse: 0.3733\n",
            "Epoch 30/100\n",
            "5/5 [==============================] - 4s 772ms/step - loss: 0.0224 - rmse: 0.1498 - val_loss: 0.1837 - val_rmse: 0.4286\n",
            "Epoch 31/100\n",
            "5/5 [==============================] - 4s 754ms/step - loss: 0.0303 - rmse: 0.1741 - val_loss: 0.1339 - val_rmse: 0.3659\n",
            "Epoch 32/100\n",
            "5/5 [==============================] - 4s 760ms/step - loss: 0.0152 - rmse: 0.1235 - val_loss: 0.0948 - val_rmse: 0.3079\n",
            "Epoch 33/100\n",
            "5/5 [==============================] - 5s 929ms/step - loss: 0.0175 - rmse: 0.1324 - val_loss: 0.0702 - val_rmse: 0.2649\n",
            "Epoch 34/100\n",
            "5/5 [==============================] - 4s 777ms/step - loss: 0.0122 - rmse: 0.1102 - val_loss: 0.0819 - val_rmse: 0.2862\n",
            "Epoch 35/100\n",
            "5/5 [==============================] - 4s 867ms/step - loss: 0.0222 - rmse: 0.1489 - val_loss: 0.0313 - val_rmse: 0.1770\n",
            "Epoch 36/100\n",
            "5/5 [==============================] - 4s 774ms/step - loss: 0.0314 - rmse: 0.1773 - val_loss: 0.0436 - val_rmse: 0.2088\n",
            "Epoch 37/100\n",
            "5/5 [==============================] - 4s 785ms/step - loss: 0.0330 - rmse: 0.1817 - val_loss: 0.0384 - val_rmse: 0.1961\n",
            "Epoch 38/100\n",
            "5/5 [==============================] - 4s 773ms/step - loss: 0.0550 - rmse: 0.2346 - val_loss: 0.0977 - val_rmse: 0.3125\n",
            "Epoch 39/100\n",
            "5/5 [==============================] - 4s 779ms/step - loss: 0.0487 - rmse: 0.2206 - val_loss: 0.1936 - val_rmse: 0.4400\n",
            "Epoch 40/100\n",
            "5/5 [==============================] - 4s 794ms/step - loss: 0.0948 - rmse: 0.3078 - val_loss: 0.1970 - val_rmse: 0.4438\n",
            "Epoch 41/100\n",
            "5/5 [==============================] - 4s 794ms/step - loss: 0.0828 - rmse: 0.2878 - val_loss: 0.0819 - val_rmse: 0.2861\n",
            "Epoch 42/100\n",
            "5/5 [==============================] - 4s 779ms/step - loss: 0.0694 - rmse: 0.2634 - val_loss: 0.1420 - val_rmse: 0.3769\n",
            "Epoch 43/100\n",
            "5/5 [==============================] - 4s 772ms/step - loss: 0.0793 - rmse: 0.2817 - val_loss: 0.1180 - val_rmse: 0.3435\n",
            "Epoch 44/100\n",
            "5/5 [==============================] - 4s 783ms/step - loss: 0.0627 - rmse: 0.2504 - val_loss: 0.0389 - val_rmse: 0.1972\n",
            "Epoch 45/100\n",
            "5/5 [==============================] - 4s 775ms/step - loss: 0.0394 - rmse: 0.1985 - val_loss: 0.0727 - val_rmse: 0.2697\n",
            "Epoch 46/100\n",
            "5/5 [==============================] - 4s 766ms/step - loss: 0.0586 - rmse: 0.2420 - val_loss: 0.0462 - val_rmse: 0.2149\n",
            "Epoch 47/100\n",
            "5/5 [==============================] - 4s 860ms/step - loss: 0.0292 - rmse: 0.1708 - val_loss: 0.0149 - val_rmse: 0.1220\n",
            "Epoch 48/100\n",
            "5/5 [==============================] - 4s 787ms/step - loss: 0.0109 - rmse: 0.1043 - val_loss: 0.0904 - val_rmse: 0.3007\n",
            "Epoch 49/100\n",
            "5/5 [==============================] - 4s 768ms/step - loss: 0.0420 - rmse: 0.2049 - val_loss: 0.0879 - val_rmse: 0.2965\n",
            "Epoch 50/100\n",
            "5/5 [==============================] - 4s 763ms/step - loss: 0.0410 - rmse: 0.2025 - val_loss: 0.0531 - val_rmse: 0.2304\n",
            "Epoch 51/100\n",
            "5/5 [==============================] - 4s 773ms/step - loss: 0.0501 - rmse: 0.2238 - val_loss: 0.1235 - val_rmse: 0.3515\n",
            "Epoch 52/100\n",
            "5/5 [==============================] - 4s 776ms/step - loss: 0.0961 - rmse: 0.3099 - val_loss: 0.0839 - val_rmse: 0.2897\n",
            "Epoch 53/100\n",
            "5/5 [==============================] - 4s 869ms/step - loss: 0.0881 - rmse: 0.2968 - val_loss: 0.0091 - val_rmse: 0.0955\n",
            "Epoch 54/100\n",
            "5/5 [==============================] - 4s 776ms/step - loss: 0.0457 - rmse: 0.2139 - val_loss: 0.0376 - val_rmse: 0.1940\n",
            "Epoch 55/100\n",
            "5/5 [==============================] - 4s 865ms/step - loss: 0.0303 - rmse: 0.1741 - val_loss: 0.0187 - val_rmse: 0.1366\n",
            "Epoch 56/100\n",
            "5/5 [==============================] - 4s 867ms/step - loss: 0.0182 - rmse: 0.1348 - val_loss: 0.0076 - val_rmse: 0.0869\n",
            "Epoch 57/100\n",
            "5/5 [==============================] - 4s 779ms/step - loss: 0.0126 - rmse: 0.1120 - val_loss: 0.0503 - val_rmse: 0.2242\n",
            "Epoch 58/100\n",
            "5/5 [==============================] - 4s 780ms/step - loss: 0.0190 - rmse: 0.1380 - val_loss: 0.0245 - val_rmse: 0.1564\n",
            "Epoch 59/100\n",
            "5/5 [==============================] - 4s 767ms/step - loss: 0.0117 - rmse: 0.1083 - val_loss: 0.0165 - val_rmse: 0.1283\n",
            "Epoch 60/100\n",
            "5/5 [==============================] - 4s 770ms/step - loss: 0.0097 - rmse: 0.0984 - val_loss: 0.0303 - val_rmse: 0.1741\n",
            "Epoch 61/100\n",
            "5/5 [==============================] - 4s 773ms/step - loss: 0.0146 - rmse: 0.1207 - val_loss: 0.0404 - val_rmse: 0.2010\n",
            "Epoch 62/100\n",
            "5/5 [==============================] - 4s 789ms/step - loss: 0.0192 - rmse: 0.1387 - val_loss: 0.0267 - val_rmse: 0.1635\n",
            "Epoch 63/100\n",
            "5/5 [==============================] - 4s 772ms/step - loss: 0.0119 - rmse: 0.1090 - val_loss: 0.0426 - val_rmse: 0.2065\n",
            "Epoch 64/100\n",
            "5/5 [==============================] - 4s 764ms/step - loss: 0.0290 - rmse: 0.1703 - val_loss: 0.0133 - val_rmse: 0.1153\n",
            "Epoch 65/100\n",
            "5/5 [==============================] - 4s 784ms/step - loss: 0.0311 - rmse: 0.1762 - val_loss: 0.0080 - val_rmse: 0.0895\n",
            "Epoch 66/100\n",
            "5/5 [==============================] - 4s 777ms/step - loss: 0.0311 - rmse: 0.1762 - val_loss: 0.0098 - val_rmse: 0.0992\n",
            "Epoch 67/100\n",
            "5/5 [==============================] - 4s 777ms/step - loss: 0.0248 - rmse: 0.1574 - val_loss: 0.0255 - val_rmse: 0.1597\n",
            "Epoch 68/100\n",
            "5/5 [==============================] - 4s 772ms/step - loss: 0.0084 - rmse: 0.0918 - val_loss: 0.0273 - val_rmse: 0.1653\n",
            "Epoch 69/100\n",
            "5/5 [==============================] - 4s 783ms/step - loss: 0.0128 - rmse: 0.1131 - val_loss: 0.0246 - val_rmse: 0.1569\n",
            "Epoch 70/100\n",
            "5/5 [==============================] - 4s 775ms/step - loss: 0.0104 - rmse: 0.1018 - val_loss: 0.0322 - val_rmse: 0.1795\n",
            "Epoch 71/100\n",
            "5/5 [==============================] - 4s 771ms/step - loss: 0.0241 - rmse: 0.1553 - val_loss: 0.0581 - val_rmse: 0.2410\n",
            "Epoch 72/100\n",
            "5/5 [==============================] - 4s 779ms/step - loss: 0.0375 - rmse: 0.1936 - val_loss: 0.0697 - val_rmse: 0.2640\n",
            "Epoch 73/100\n",
            "5/5 [==============================] - 4s 786ms/step - loss: 0.0335 - rmse: 0.1831 - val_loss: 0.0406 - val_rmse: 0.2015\n",
            "Epoch 74/100\n",
            "5/5 [==============================] - 4s 776ms/step - loss: 0.0445 - rmse: 0.2110 - val_loss: 0.0811 - val_rmse: 0.2847\n",
            "Epoch 75/100\n",
            "5/5 [==============================] - 4s 768ms/step - loss: 0.0577 - rmse: 0.2403 - val_loss: 0.0208 - val_rmse: 0.1443\n",
            "Epoch 76/100\n",
            "5/5 [==============================] - 4s 788ms/step - loss: 0.0469 - rmse: 0.2165 - val_loss: 0.0235 - val_rmse: 0.1532\n",
            "Epoch 77/100\n",
            "5/5 [==============================] - 4s 770ms/step - loss: 0.0368 - rmse: 0.1918 - val_loss: 0.0277 - val_rmse: 0.1664\n",
            "Epoch 78/100\n",
            "5/5 [==============================] - 4s 770ms/step - loss: 0.0196 - rmse: 0.1401 - val_loss: 0.0145 - val_rmse: 0.1205\n",
            "Epoch 79/100\n",
            "5/5 [==============================] - 4s 774ms/step - loss: 0.0159 - rmse: 0.1262 - val_loss: 0.0396 - val_rmse: 0.1989\n",
            "Epoch 80/100\n",
            "5/5 [==============================] - 4s 781ms/step - loss: 0.0142 - rmse: 0.1191 - val_loss: 0.0364 - val_rmse: 0.1908\n",
            "Epoch 81/100\n",
            "5/5 [==============================] - 4s 768ms/step - loss: 0.0123 - rmse: 0.1110 - val_loss: 0.0177 - val_rmse: 0.1330\n",
            "Epoch 82/100\n",
            "5/5 [==============================] - 4s 772ms/step - loss: 0.0128 - rmse: 0.1129 - val_loss: 0.0194 - val_rmse: 0.1393\n",
            "Epoch 83/100\n",
            "5/5 [==============================] - 4s 777ms/step - loss: 0.0116 - rmse: 0.1079 - val_loss: 0.0272 - val_rmse: 0.1650\n",
            "Epoch 84/100\n",
            "5/5 [==============================] - 4s 773ms/step - loss: 0.0077 - rmse: 0.0878 - val_loss: 0.0418 - val_rmse: 0.2045\n",
            "Epoch 85/100\n",
            "5/5 [==============================] - 4s 763ms/step - loss: 0.0111 - rmse: 0.1053 - val_loss: 0.0289 - val_rmse: 0.1700\n",
            "Epoch 86/100\n",
            "5/5 [==============================] - 4s 769ms/step - loss: 0.0126 - rmse: 0.1124 - val_loss: 0.0260 - val_rmse: 0.1613\n",
            "Epoch 87/100\n",
            "5/5 [==============================] - 4s 787ms/step - loss: 0.0122 - rmse: 0.1103 - val_loss: 0.0252 - val_rmse: 0.1586\n",
            "Epoch 88/100\n",
            "5/5 [==============================] - 4s 777ms/step - loss: 0.0141 - rmse: 0.1186 - val_loss: 0.0101 - val_rmse: 0.1004\n",
            "Epoch 89/100\n",
            "5/5 [==============================] - 4s 773ms/step - loss: 0.0161 - rmse: 0.1269 - val_loss: 0.0294 - val_rmse: 0.1714\n",
            "Epoch 90/100\n",
            "5/5 [==============================] - 4s 783ms/step - loss: 0.0133 - rmse: 0.1153 - val_loss: 0.0596 - val_rmse: 0.2441\n",
            "Epoch 91/100\n",
            "5/5 [==============================] - 4s 767ms/step - loss: 0.0176 - rmse: 0.1327 - val_loss: 0.0373 - val_rmse: 0.1932\n",
            "Epoch 92/100\n",
            "5/5 [==============================] - 4s 766ms/step - loss: 0.0199 - rmse: 0.1410 - val_loss: 0.0543 - val_rmse: 0.2330\n",
            "Epoch 93/100\n",
            "5/5 [==============================] - 4s 771ms/step - loss: 0.0224 - rmse: 0.1495 - val_loss: 0.0185 - val_rmse: 0.1359\n",
            "Epoch 94/100\n",
            "5/5 [==============================] - 4s 785ms/step - loss: 0.0167 - rmse: 0.1290 - val_loss: 0.0271 - val_rmse: 0.1646\n",
            "Epoch 95/100\n",
            "5/5 [==============================] - 4s 771ms/step - loss: 0.0089 - rmse: 0.0943 - val_loss: 0.0198 - val_rmse: 0.1408\n",
            "Epoch 96/100\n",
            "5/5 [==============================] - 4s 776ms/step - loss: 0.0095 - rmse: 0.0975 - val_loss: 0.0082 - val_rmse: 0.0905\n",
            "Epoch 97/100\n",
            "5/5 [==============================] - 4s 787ms/step - loss: 0.0177 - rmse: 0.1331 - val_loss: 0.0422 - val_rmse: 0.2055\n",
            "Epoch 98/100\n",
            "5/5 [==============================] - 4s 776ms/step - loss: 0.0147 - rmse: 0.1213 - val_loss: 0.0241 - val_rmse: 0.1552\n",
            "Epoch 99/100\n",
            "5/5 [==============================] - 4s 772ms/step - loss: 0.0076 - rmse: 0.0874 - val_loss: 0.0329 - val_rmse: 0.1813\n",
            "Epoch 100/100\n",
            "5/5 [==============================] - 4s 770ms/step - loss: 0.0107 - rmse: 0.1035 - val_loss: 0.0289 - val_rmse: 0.1701\n"
          ]
        },
        {
          "output_type": "execute_result",
          "data": {
            "text/plain": [
              "'model = tf.keras.models.Sequential()\\nmodel.add(res_model)\\nmodel.add(tf.keras.layers.Flatten())\\nmodel.add(tf.keras.layers.BatchNormalization())\\nmodel.add(tf.keras.layers.Dense(256, activation=\\'relu\\'))\\nmodel.add(tf.keras.layers.Dropout(0.5))\\nmodel.add(tf.keras.layers.BatchNormalization())\\nmodel.add(tf.keras.layers.Dense(128, activation=\\'relu\\'))\\nmodel.add(tf.keras.layers.Dropout(0.5))\\nmodel.add(tf.keras.layers.BatchNormalization())\\nmodel.add(tf.keras.layers.Dense(64, activation=\\'relu\\'))\\nmodel.add(tf.keras.layers.Dropout(0.5))\\nmodel.add(tf.keras.layers.BatchNormalization())\\nmodel.add(tf.keras.layers.Dense(1, activation=\\'linear\\'))\\n\\ncheck_point = tf.keras.callbacks.ModelCheckpoint(filepath=\"cifar10.h5\",\\n                                              monitor=\"val_acc\",\\n                                              mode=\"max\",\\n                                              save_best_only=True,\\n                                              )\\nmodel.compile(optimizer = \\'adam\\', loss=\\'mean_squared_error\\', metrics = [\\'mean_squared_error\\'])\\nhistory = model.fit(X_train, y_train, batch_size=32, epochs=10, verbose=1,\\n                        validation_data=(X_valid, y_valid),\\n                        callbacks=[check_point])\\nmodel.summary()'"
            ],
            "application/vnd.google.colaboratory.intrinsic+json": {
              "type": "string"
            }
          },
          "metadata": {},
          "execution_count": 8
        }
      ]
    },
    {
      "cell_type": "code",
      "source": [
        "\n",
        "model.evaluate(X_valid, y_valid, batch_size=128, verbose=1)"
      ],
      "metadata": {
        "colab": {
          "base_uri": "https://localhost:8080/"
        },
        "id": "W3cLsBMwmZH3",
        "outputId": "0fa5fee5-5339-4da8-b784-d8770b4d2c91"
      },
      "execution_count": null,
      "outputs": [
        {
          "output_type": "stream",
          "name": "stdout",
          "text": [
            "1/1 [==============================] - 2s 2s/step - loss: 0.0289 - rmse: 0.1701\n"
          ]
        },
        {
          "output_type": "execute_result",
          "data": {
            "text/plain": [
              "[0.028930095955729485, 0.1700884848833084]"
            ]
          },
          "metadata": {},
          "execution_count": 9
        }
      ]
    },
    {
      "cell_type": "code",
      "source": [
        "# Predict on train, val and test\n",
        "preds_train = model.predict(X_train, verbose=1)\n",
        "preds_val = model.predict(X_valid, verbose=1)"
      ],
      "metadata": {
        "id": "287dOlZrm09x",
        "outputId": "7cad89fd-869a-47f3-d2d3-f92b474cfa1d",
        "colab": {
          "base_uri": "https://localhost:8080/"
        }
      },
      "execution_count": null,
      "outputs": [
        {
          "output_type": "stream",
          "name": "stdout",
          "text": [
            "5/5 [==============================] - 4s 250ms/step\n",
            "2/2 [==============================] - 0s 238ms/step\n"
          ]
        }
      ]
    },
    {
      "cell_type": "code",
      "source": [
        "print(y_train[0])\n",
        "print(preds_train[0])"
      ],
      "metadata": {
        "id": "2q7EyRwum2aK",
        "outputId": "7e3cdad9-e9bb-4ae8-cdde-15488c6b48e9",
        "colab": {
          "base_uri": "https://localhost:8080/"
        }
      },
      "execution_count": null,
      "outputs": [
        {
          "output_type": "stream",
          "name": "stdout",
          "text": [
            "[1.175]\n",
            "[1.1718678]\n"
          ]
        }
      ]
    },
    {
      "cell_type": "code",
      "source": [
        "ground_truth = y_valid\n",
        "pred = preds_val\n",
        "# Sort the data by ground truth values for plotting the regression curve\n",
        "sorted_indices = np.argsort(ground_truth.flatten())\n",
        "sorted_ground_truth = ground_truth[sorted_indices]\n",
        "sorted_predictions = pred[sorted_indices]\n",
        "\n",
        "# Plot the regression curve\n",
        "plt.plot(sorted_ground_truth, sorted_predictions, color='blue', label='Regression Curve')\n",
        "\n",
        "# Plot the predicted points against real values\n",
        "plt.scatter(ground_truth, pred, color='red', label='Predicted Points')\n",
        "\n",
        "# Add a 45-degree line for reference (y=x)\n",
        "x_min, x_max = np.min(ground_truth), np.max(ground_truth)\n",
        "plt.plot([x_min, x_max], [x_min, x_max], color='green', linestyle='--', label='45-degree Line')\n",
        "\n",
        "plt.xlabel('True Values')\n",
        "plt.ylabel('Predicted Values')\n",
        "plt.title('Regression Curve and Predicted Points')\n",
        "plt.legend()\n",
        "plt.show()"
      ],
      "metadata": {
        "id": "iWzSoeCbjeFk",
        "outputId": "6ddaa69e-7aed-4199-ce5a-43c02cb9ccac",
        "colab": {
          "base_uri": "https://localhost:8080/",
          "height": 477
        }
      },
      "execution_count": null,
      "outputs": [
        {
          "output_type": "display_data",
          "data": {
            "text/plain": [
              "<Figure size 640x480 with 1 Axes>"
            ],
            "image/png": "[encoded data removed]"
          },
          "metadata": {}
        }
      ]
    },
    {
      "cell_type": "code",
      "source": [
        "errors = preds_val - y_valid\n",
        "\n",
        "# Plot the residuals/errors\n",
        "plt.scatter(y_valid, errors)\n",
        "plt.axhline(y=0, color='r', linestyle='--')  # Add a horizontal line at y=0 for reference\n",
        "plt.xlabel('validation data values')\n",
        "plt.ylabel('Prediction Error')\n",
        "plt.title('Prediction Errors for validation data')\n",
        "plt.show()"
      ],
      "metadata": {
        "id": "oejf7wp-jkDX",
        "outputId": "cc7d1bfa-80e7-400c-c98b-ab024c1bb624",
        "colab": {
          "base_uri": "https://localhost:8080/",
          "height": 477
        }
      },
      "execution_count": null,
      "outputs": [
        {
          "output_type": "display_data",
          "data": {
            "text/plain": [
              "<Figure size 640x480 with 1 Axes>"
            ],
            "image/png": "[encoded data removed]"
          },
          "metadata": {}
        }
      ]
    }
  ]
}